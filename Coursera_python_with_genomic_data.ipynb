{
  "nbformat": 4,
  "nbformat_minor": 0,
  "metadata": {
    "colab": {
      "provenance": []
    },
    "kernelspec": {
      "name": "python3",
      "display_name": "Python 3"
    },
    "language_info": {
      "name": "python"
    }
  },
  "cells": [
    {
      "cell_type": "markdown",
      "source": [
        "**Python with genomic data**\n",
        "\n",
        "Codes for practice use\n",
        "\n",
        "****"
      ],
      "metadata": {
        "id": "6_eu7M2UNnWw"
      }
    },
    {
      "cell_type": "code",
      "execution_count": null,
      "metadata": {
        "id": "DtbO4X8JGkyr"
      },
      "outputs": [],
      "source": [
        "#Reading a FASTA File\n",
        "\n",
        "#let's say we have a FASTA file named 'myfile.fa'\n",
        "\n",
        "f = open('myfile.fa', 'r')\n",
        "seqs = {}\n",
        "for line in f:\n",
        "  line = line.strip()\n",
        "  if line[0] == '>':\n",
        "    name = line[1:]\n",
        "    seqs[name] = ''\n",
        "  else:\n",
        "    seqs[name] += line\n",
        "\n",
        "print(seqs)"
      ]
    },
    {
      "cell_type": "code",
      "source": [
        "# Running blast\n",
        "\n",
        "Import Bio\n",
        "\n",
        "from Bio import SeqIO\n",
        "from Bio.Blast import NCBIWWW\n",
        "from Bio.Blast import NCBIXML\n",
        "\n",
        "from Bio.Seq import Seq\n",
        "from Bio.SeqRecord import SeqRecord\n",
        "from Bio.Alphabet import IUPAC\n",
        "\n",
        "fasta_string = open(\"test.fasta\").read()\n",
        "fasta_string\n",
        "\n",
        "results = NCBIWWW.qblast(\"blastn\", \"nt\", fasta_string)\n",
        "blast_record = NCBIXML.read(results)\n",
        "\n",
        "len(blast_record)\n",
        "\n",
        "evalue_threshold = 0.001\n",
        "for alignment in blast_record.alignments:\n",
        "    for hsp in alignment.hsps:\n",
        "        if hsp.expect < evalue_threshold:\n",
        "          print('****Alignment****')\n",
        "          print('sequence:', alignment.title)\n",
        "          print('length:', alignment.length)\n",
        "          print('e value:', hsp.expect)\n",
        "          print(hsp.query[0:75] + '...')\n"
      ],
      "metadata": {
        "id": "a3JkTv14Gl5L"
      },
      "execution_count": null,
      "outputs": []
    },
    {
      "cell_type": "code",
      "source": [
        "#Example\n",
        "\n",
        "!pip install biopython\n",
        "import Bio\n",
        "\n",
        "from Bio.Blast import NCBIWWW\n",
        "from Bio.Blast import NCBIXML\n",
        "\n",
        "# The unknown DNA sequence\n",
        "sequence = \"\"\"TGGGCCTCATATTTATCCTATATACCATGTTCGTATGGTGGCGCGATGTTCTACGTGAATCCACGTTCGAAGGACATCATACCAAAGTCGTAC\n",
        "AATTAGGACCTCGATATGGTTTTATTCTGTTTATCGTATCGGAGGTTATGTTCTTTTTTGCTCTTTTTCGGGCTTCTTCTCATTCTTCTTTGGCAC\n",
        "CTACGGTAGAG\"\"\"\n",
        "\n",
        "# Run BLAST\n",
        "result_handle = NCBIWWW.qblast(\"blastn\", \"nt\", sequence)\n",
        "\n",
        "# Save the result to a file\n",
        "with open(\"my_blast.xml\", \"w\") as out_handle:\n",
        "    out_handle.write(result_handle.read())\n",
        "result_handle.close()\n",
        "\n",
        "# Parse the BLAST results\n",
        "result_handle = open(\"my_blast.xml\")\n",
        "blast_record = NCBIXML.read(result_handle)\n",
        "\n",
        "# Extract and print the species with the lowest E-value\n",
        "for alignment in blast_record.alignments:\n",
        "    for hsp in alignment.hsps:\n",
        "        if hsp.expect < 0.01:  # Usually a threshold for significant hits\n",
        "            print(f\"****Alignment****\")\n",
        "            print(f\"sequence: {alignment.title}\")\n",
        "            print(f\"length: {alignment.length}\")\n",
        "            print(f\"e value: {hsp.expect}\")\n",
        "            print(f\"species: {alignment.hit_def.split('[')[-1].split(']')[0]}\")\n",
        "            break\n",
        "result_handle.close()\n"
      ],
      "metadata": {
        "colab": {
          "base_uri": "https://localhost:8080/",
          "height": 540
        },
        "id": "bWJrAl-eGl-s",
        "outputId": "ed56ae92-6476-45c7-bff4-e2b6f9f240eb"
      },
      "execution_count": 12,
      "outputs": [
        {
          "output_type": "stream",
          "name": "stdout",
          "text": [
            "Collecting biopython\n",
            "  Downloading biopython-1.83-cp310-cp310-manylinux_2_17_x86_64.manylinux2014_x86_64.whl (3.1 MB)\n",
            "\u001b[2K     \u001b[90m━━━━━━━━━━━━━━━━━━━━━━━━━━━━━━━━━━━━━━━━\u001b[0m \u001b[32m3.1/3.1 MB\u001b[0m \u001b[31m23.3 MB/s\u001b[0m eta \u001b[36m0:00:00\u001b[0m\n",
            "\u001b[?25hRequirement already satisfied: numpy in /usr/local/lib/python3.10/dist-packages (from biopython) (1.25.2)\n",
            "Installing collected packages: biopython\n",
            "Successfully installed biopython-1.83\n"
          ]
        },
        {
          "output_type": "error",
          "ename": "KeyboardInterrupt",
          "evalue": "",
          "traceback": [
            "\u001b[0;31m---------------------------------------------------------------------------\u001b[0m",
            "\u001b[0;31mKeyboardInterrupt\u001b[0m                         Traceback (most recent call last)",
            "\u001b[0;32m<ipython-input-12-2200f74bc4b4>\u001b[0m in \u001b[0;36m<cell line: 15>\u001b[0;34m()\u001b[0m\n\u001b[1;32m     13\u001b[0m \u001b[0;34m\u001b[0m\u001b[0m\n\u001b[1;32m     14\u001b[0m \u001b[0;31m# Run BLAST\u001b[0m\u001b[0;34m\u001b[0m\u001b[0;34m\u001b[0m\u001b[0m\n\u001b[0;32m---> 15\u001b[0;31m \u001b[0mresult_handle\u001b[0m \u001b[0;34m=\u001b[0m \u001b[0mNCBIWWW\u001b[0m\u001b[0;34m.\u001b[0m\u001b[0mqblast\u001b[0m\u001b[0;34m(\u001b[0m\u001b[0;34m\"blastn\"\u001b[0m\u001b[0;34m,\u001b[0m \u001b[0;34m\"nt\"\u001b[0m\u001b[0;34m,\u001b[0m \u001b[0msequence\u001b[0m\u001b[0;34m)\u001b[0m\u001b[0;34m\u001b[0m\u001b[0;34m\u001b[0m\u001b[0m\n\u001b[0m\u001b[1;32m     16\u001b[0m \u001b[0;34m\u001b[0m\u001b[0m\n\u001b[1;32m     17\u001b[0m \u001b[0;31m# Save the result to a file\u001b[0m\u001b[0;34m\u001b[0m\u001b[0;34m\u001b[0m\u001b[0m\n",
            "\u001b[0;32m/usr/local/lib/python3.10/dist-packages/Bio/Blast/NCBIWWW.py\u001b[0m in \u001b[0;36mqblast\u001b[0;34m(program, database, sequence, url_base, auto_format, composition_based_statistics, db_genetic_code, endpoints, entrez_query, expect, filter, gapcosts, genetic_code, hitlist_size, i_thresh, layout, lcase_mask, matrix_name, nucl_penalty, nucl_reward, other_advanced, perc_ident, phi_pattern, query_file, query_believe_defline, query_from, query_to, searchsp_eff, service, threshold, ungapped_alignment, word_size, short_query, alignments, alignment_view, descriptions, entrez_links_new_window, expect_low, expect_high, format_entrez_query, format_object, format_type, ncbi_gi, results_file, show_overview, megablast, template_type, template_length, username, password)\u001b[0m\n\u001b[1;32m    268\u001b[0m         \u001b[0mwait\u001b[0m \u001b[0;34m=\u001b[0m \u001b[0mqblast\u001b[0m\u001b[0;34m.\u001b[0m\u001b[0mprevious\u001b[0m \u001b[0;34m+\u001b[0m \u001b[0mdelay\u001b[0m \u001b[0;34m-\u001b[0m \u001b[0mcurrent\u001b[0m\u001b[0;34m\u001b[0m\u001b[0;34m\u001b[0m\u001b[0m\n\u001b[1;32m    269\u001b[0m         \u001b[0;32mif\u001b[0m \u001b[0mwait\u001b[0m \u001b[0;34m>\u001b[0m \u001b[0;36m0\u001b[0m\u001b[0;34m:\u001b[0m\u001b[0;34m\u001b[0m\u001b[0;34m\u001b[0m\u001b[0m\n\u001b[0;32m--> 270\u001b[0;31m             \u001b[0mtime\u001b[0m\u001b[0;34m.\u001b[0m\u001b[0msleep\u001b[0m\u001b[0;34m(\u001b[0m\u001b[0mwait\u001b[0m\u001b[0;34m)\u001b[0m\u001b[0;34m\u001b[0m\u001b[0;34m\u001b[0m\u001b[0m\n\u001b[0m\u001b[1;32m    271\u001b[0m             \u001b[0mqblast\u001b[0m\u001b[0;34m.\u001b[0m\u001b[0mprevious\u001b[0m \u001b[0;34m=\u001b[0m \u001b[0mcurrent\u001b[0m \u001b[0;34m+\u001b[0m \u001b[0mwait\u001b[0m\u001b[0;34m\u001b[0m\u001b[0;34m\u001b[0m\u001b[0m\n\u001b[1;32m    272\u001b[0m         \u001b[0;32melse\u001b[0m\u001b[0;34m:\u001b[0m\u001b[0;34m\u001b[0m\u001b[0;34m\u001b[0m\u001b[0m\n",
            "\u001b[0;31mKeyboardInterrupt\u001b[0m: "
          ]
        }
      ]
    },
    {
      "cell_type": "code",
      "source": [
        "#Translating into proteins\n",
        "\n",
        "from Bio.Seq import Seq\n",
        "\n",
        "# The DNA sequence\n",
        "dna_sequence = \"\"\"TGGGCCTCATATTTATCCTATATACCATGTTCGTATGGTGGCGCGATGTTCTACGTGAATCCACGTTCGAAGGACATCATACCAAAGTCGTAC\n",
        "AATTAGGACCTCGATATGGTTTTATTCTGTTTATCGTATCGGAGGTTATGTTCTTTTTTGCTCTTTTTCGGGCTTCTTCTCATTCTTCTTTGGCAC\n",
        "CTACGGTAGAG\"\"\"\n",
        "\n",
        "# Create the Seq object\n",
        "dna_seq = Seq(dna_sequence.replace(\"\\n\", \"\"))\n",
        "\n",
        "# Translate the DNA sequence to a protein sequence\n",
        "protein_seq = dna_seq.translate()\n",
        "\n",
        "# Print the protein sequence\n",
        "print(protein_seq)\n"
      ],
      "metadata": {
        "id": "ZTsJhAaFGmAo"
      },
      "execution_count": null,
      "outputs": []
    },
    {
      "cell_type": "markdown",
      "source": [
        "**Final project code**\n",
        "\n",
        "Goals:\n",
        "\n",
        "1.Find the numbers of record in FASTA file ('>\")\n",
        "\n",
        "2.Count the length of the sequences\n",
        "\n",
        "3.There are 6 possible reading frames, open reading frame is called ORF.\n",
        " 1. What is the length of the longtest ORF?\n",
        " 2. What is the identifier?\n",
        "\n",
        "4.Find the numbers of repeats in forward string, given length n\n"
      ],
      "metadata": {
        "id": "zvtDZlrvUdNG"
      }
    },
    {
      "cell_type": "code",
      "source": [
        "#Load required packages\n",
        "\n",
        "from Bio import SeqIO\n",
        "from Bio.Seq import Seq\n",
        "import re\n",
        "from collections import defaultdict, Counter\n"
      ],
      "metadata": {
        "id": "8-mBSLetGmEJ"
      },
      "execution_count": 14,
      "outputs": []
    },
    {
      "cell_type": "code",
      "source": [
        "#Create a function to count # of records in FASTA file\n",
        "def count_records(filename):\n",
        "    return sum(1 for record in SeqIO.parse(filename, \"fasta\"))"
      ],
      "metadata": {
        "id": "3iuEy5RzUd3B"
      },
      "execution_count": 15,
      "outputs": []
    },
    {
      "cell_type": "code",
      "source": [
        "#Create a function to count the len of the sequences\n",
        "\n",
        "def sequence_lengths(filename):\n",
        "    lengths = {}\n",
        "    for record in SeqIO.parse(filename, \"fasta\"):\n",
        "        lengths[record.id] = len(record.seq)\n",
        "    max_length = max(lengths.values())\n",
        "    min_length = min(lengths.values())\n",
        "    longest_sequences = [id for id, length in lengths.items() if length == max_length]\n",
        "    shortest_sequences = [id for id, length in lengths.items() if length == min_length]\n",
        "    return lengths, max_length, min_length, longest_sequences, shortest_sequences\n"
      ],
      "metadata": {
        "id": "tdC2TbHHUd5U"
      },
      "execution_count": 16,
      "outputs": []
    },
    {
      "cell_type": "code",
      "source": [
        "#Assess open reading frame\n",
        "\n",
        "def find_orfs(sequence, frame):\n",
        "    sequence = sequence[frame-1:]  # Adjust for reading frame\n",
        "    orfs = []\n",
        "    start_positions = [m.start() for m in re.finditer('ATG', str(sequence))]\n",
        "    stop_codons = {'TAA', 'TAG', 'TGA'}\n",
        "\n",
        "    for start in start_positions:\n",
        "        for pos in range(start + 3, len(sequence), 3):\n",
        "            codon = sequence[pos:pos+3]\n",
        "            if codon in stop_codons:\n",
        "                orfs.append((start + frame, sequence[start:pos+3]))  # Store 1-based position\n",
        "                break\n",
        "\n",
        "    return orfs\n",
        "\n",
        "def longest_orf_in_file(filename, frame):\n",
        "    max_orf_length = 0\n",
        "    max_orf_seq_id = \"\"\n",
        "    max_orf_seq = \"\"\n",
        "    max_orf_start_pos = 0\n",
        "\n",
        "    for record in SeqIO.parse(filename, \"fasta\"):\n",
        "        orfs = find_orfs(record.seq, frame)\n",
        "        for start_pos, orf in orfs:\n",
        "            orf_length = len(orf)\n",
        "            if orf_length > max_orf_length:\n",
        "                max_orf_length = orf_length\n",
        "                max_orf_seq_id = record.id\n",
        "                max_orf_seq = orf\n",
        "                max_orf_start_pos = start_pos\n",
        "\n",
        "    return max_orf_length, max_orf_seq_id, max_orf_seq, max_orf_start_pos\n"
      ],
      "metadata": {
        "id": "kSXf3IK9Ud7d"
      },
      "execution_count": 17,
      "outputs": []
    },
    {
      "cell_type": "code",
      "source": [
        "#Find all repeats\n",
        "\n",
        "def find_repeats(sequence, length):\n",
        "    repeats = defaultdict(int)\n",
        "    for i in range(len(sequence) - length + 1):\n",
        "        repeat = sequence[i:i+length]\n",
        "        repeats[repeat] += 1\n",
        "    return repeats\n",
        "\n",
        "def find_most_frequent_repeat(filename, repeat_length):\n",
        "    all_repeats = Counter()\n",
        "    for record in SeqIO.parse(filename, \"fasta\"):\n",
        "        repeats = find_repeats(str(record.seq), repeat_length)\n",
        "        all_repeats.update(repeats)\n",
        "\n",
        "    most_common_repeat = all_repeats.most_common(1)[0]\n",
        "    return most_common_repeat, all_repeats\n"
      ],
      "metadata": {
        "id": "MHJjoNN2Ud9j"
      },
      "execution_count": 18,
      "outputs": []
    },
    {
      "cell_type": "code",
      "source": [
        "#Results\n",
        "\n",
        "#Read in fasta file\n",
        "\n",
        "f = open('dna2.fasta', 'r')\n",
        "\n",
        "!ls"
      ],
      "metadata": {
        "colab": {
          "base_uri": "https://localhost:8080/"
        },
        "id": "JpnZ_APVUeCn",
        "outputId": "0361daa9-e630-40f1-cba6-5eb33ae060a3"
      },
      "execution_count": 21,
      "outputs": [
        {
          "output_type": "stream",
          "name": "stdout",
          "text": [
            "dna2.fasta  sample_data\n"
          ]
        }
      ]
    },
    {
      "cell_type": "code",
      "source": [
        "# Count number of records in FASTA file\n",
        "\n",
        "print(count_records('dna2.fasta'))\n",
        "\n",
        "#18"
      ],
      "metadata": {
        "colab": {
          "base_uri": "https://localhost:8080/"
        },
        "id": "IYXoo2X5XOR-",
        "outputId": "8784b25e-e1fc-4fbd-e04b-bd464424f937"
      },
      "execution_count": 22,
      "outputs": [
        {
          "output_type": "stream",
          "name": "stdout",
          "text": [
            "18\n"
          ]
        }
      ]
    },
    {
      "cell_type": "code",
      "source": [
        "# Count the length of the longest sequences\n",
        "\n",
        "print(sequence_lengths('dna2.fasta'))\n"
      ],
      "metadata": {
        "colab": {
          "base_uri": "https://localhost:8080/"
        },
        "id": "2FeoP4ZGXixG",
        "outputId": "a0454087-0158-443f-b7e6-d5fa99448ef8"
      },
      "execution_count": 26,
      "outputs": [
        {
          "output_type": "stream",
          "name": "stdout",
          "text": [
            "({'gi|142022655|gb|EQ086233.1|91': 4635, 'gi|142022655|gb|EQ086233.1|304': 1151, 'gi|142022655|gb|EQ086233.1|255': 4894, 'gi|142022655|gb|EQ086233.1|45': 3511, 'gi|142022655|gb|EQ086233.1|396': 4076, 'gi|142022655|gb|EQ086233.1|250': 2867, 'gi|142022655|gb|EQ086233.1|322': 442, 'gi|142022655|gb|EQ086233.1|88': 890, 'gi|142022655|gb|EQ086233.1|594': 967, 'gi|142022655|gb|EQ086233.1|293': 4338, 'gi|142022655|gb|EQ086233.1|75': 1352, 'gi|142022655|gb|EQ086233.1|454': 4564, 'gi|142022655|gb|EQ086233.1|16': 4804, 'gi|142022655|gb|EQ086233.1|584': 964, 'gi|142022655|gb|EQ086233.1|4': 2095, 'gi|142022655|gb|EQ086233.1|277': 1432, 'gi|142022655|gb|EQ086233.1|346': 115, 'gi|142022655|gb|EQ086233.1|527': 2646}, 4894, 115, ['gi|142022655|gb|EQ086233.1|255'], ['gi|142022655|gb|EQ086233.1|346'])\n"
          ]
        }
      ]
    },
    {
      "cell_type": "code",
      "source": [
        "#What is the length of the longest ORF appearing in reading frame 2 of any of the sequences?\n",
        "\n",
        "print(longest_orf_in_file('dna2.fasta', 2))\n",
        "\n",
        "def longest_orf_in_frame_2(filename):\n",
        "    max_orf_length = 0\n",
        "    max_orf_seq_id = \"\"\n",
        "\n",
        "    for record in SeqIO.parse(filename, \"fasta\"):\n",
        "        orfs = find_orfs(record.seq, 2)\n",
        "        for start_pos, orf in orfs:\n",
        "            orf_length = len(orf)\n",
        "            if orf_length > max_orf_length:\n",
        "                max_orf_length = orf_length\n",
        "                max_orf_seq_id = record.id\n",
        "\n",
        "    return max_orf_length, max_orf_seq_id\n",
        "print(longest_orf_in_frame_2('dna2.fasta'))"
      ],
      "metadata": {
        "colab": {
          "base_uri": "https://localhost:8080/"
        },
        "id": "zhMckjqhYtrz",
        "outputId": "74f3255e-5729-4b86-8ef4-a410286d425b"
      },
      "execution_count": 28,
      "outputs": [
        {
          "output_type": "stream",
          "name": "stdout",
          "text": [
            "(2394, 'gi|142022655|gb|EQ086233.1|45', Seq('ATGGAGAAACAGTCTCGCGTTACGCGCGACGGTCGCGGGAGAGTTCTATGCGGT...TGA'), 385)\n",
            "(2394, 'gi|142022655|gb|EQ086233.1|45')\n"
          ]
        }
      ]
    },
    {
      "cell_type": "code",
      "source": [
        "#What is the starting position of the longest ORF in reading frame 3 in any of the sequences?\n",
        "\n",
        "def longest_orf_in_frame_3(filename):\n",
        "    max_orf_length = 0\n",
        "    max_orf_seq_id = \"\"\n",
        "    max_orf_start_pos = 0\n",
        "\n",
        "    for record in SeqIO.parse(filename, \"fasta\"):\n",
        "        orfs = find_orfs(record.seq, 3)\n",
        "        for start_pos, orf in orfs:\n",
        "            orf_length = len(orf)\n",
        "            if orf_length > max_orf_length:\n",
        "                max_orf_length = orf_length\n",
        "                max_orf_seq_id = record.id\n",
        "                max_orf_start_pos = start_pos + 1  # Convert to 1-based index\n",
        "\n",
        "    return max_orf_length, max_orf_seq_id, max_orf_start_pos\n",
        "\n",
        "print(longest_orf_in_frame_3('dna2.fasta'))\n"
      ],
      "metadata": {
        "colab": {
          "base_uri": "https://localhost:8080/"
        },
        "id": "_i-0yj3BZg8O",
        "outputId": "93191cb2-0d81-4671-a553-450648573e6a"
      },
      "execution_count": 29,
      "outputs": [
        {
          "output_type": "stream",
          "name": "stdout",
          "text": [
            "(2394, 'gi|142022655|gb|EQ086233.1|45', 386)\n"
          ]
        }
      ]
    },
    {
      "cell_type": "code",
      "source": [
        "# Find repeats\n",
        "\n",
        "def most_frequent_repeat(filename, repeat_length):\n",
        "    all_repeats = Counter()\n",
        "    for record in SeqIO.parse(filename, \"fasta\"):\n",
        "        repeats = find_repeats(str(record.seq), repeat_length)\n",
        "        all_repeats.update(repeats)\n",
        "\n",
        "    most_common_repeat, count = all_repeats.most_common(1)[0]\n",
        "    return most_common_repeat, count\n",
        "\n",
        "print(most_frequent_repeat('dna2.fasta', 6))"
      ],
      "metadata": {
        "colab": {
          "base_uri": "https://localhost:8080/"
        },
        "id": "E6rHCujlZ3oX",
        "outputId": "ec7d2840-681b-488b-add8-152197c32fb1"
      },
      "execution_count": 30,
      "outputs": [
        {
          "output_type": "stream",
          "name": "stdout",
          "text": [
            "('GCGCGC', 153)\n"
          ]
        }
      ]
    },
    {
      "cell_type": "code",
      "source": [
        "# find how many 12 repeats occur\n",
        "\n",
        "def all_repeats_with_max_count(filename, repeat_length):\n",
        "    all_repeats = Counter()\n",
        "    for record in SeqIO.parse(filename, \"fasta\"):\n",
        "        repeats = find_repeats(str(record.seq), repeat_length)\n",
        "        all_repeats.update(repeats)\n",
        "\n",
        "    max_count = max(all_repeats.values())\n",
        "    max_repeats = [seq for seq, count in all_repeats.items() if count == max_count]\n",
        "    return max_count, max_repeats\n",
        "\n",
        "print(all_repeats_with_max_count('dna2.fasta', 12))\n",
        "\n",
        "def main(filename):\n",
        "    repeat_length = 12\n",
        "    max_count, max_repeats = all_repeats_with_max_count(filename, repeat_length)\n",
        "    print(f\"The maximum number of copies (Max) of any 12-base repeat is: {max_count}\")\n",
        "    print(f\"Number of different 12-base sequences that occur {max_count} times: {len(max_repeats)}\")\n",
        "    print(f\"These sequences are: {max_repeats}\")\n",
        "\n",
        "if __name__ == \"__main__\":\n",
        "    filename = \"dna2.fasta\"\n",
        "    main(filename)\n",
        "print(main('dna2.fasta'))"
      ],
      "metadata": {
        "colab": {
          "base_uri": "https://localhost:8080/"
        },
        "id": "U6b0t1xGadE_",
        "outputId": "00f013fe-45c4-4598-b782-58d088ad8392"
      },
      "execution_count": 34,
      "outputs": [
        {
          "output_type": "stream",
          "name": "stdout",
          "text": [
            "(10, ['CATTCGCCATTC', 'ATTCGCCATTCG', 'TTCGCCATTCGC', 'TCGCCATTCGCC'])\n",
            "The maximum number of copies (Max) of any 12-base repeat is: 10\n",
            "Number of different 12-base sequences that occur 10 times: 4\n",
            "These sequences are: ['CATTCGCCATTC', 'ATTCGCCATTCG', 'TTCGCCATTCGC', 'TCGCCATTCGCC']\n",
            "The maximum number of copies (Max) of any 12-base repeat is: 10\n",
            "Number of different 12-base sequences that occur 10 times: 4\n",
            "These sequences are: ['CATTCGCCATTC', 'ATTCGCCATTCG', 'TTCGCCATTCGC', 'TCGCCATTCGCC']\n",
            "None\n"
          ]
        }
      ]
    },
    {
      "cell_type": "code",
      "source": [
        "# length  = 7, which repreat occurs the most\n",
        "\n",
        "print(most_frequent_repeat('dna2.fasta', 7))\n",
        "\n",
        "def main(filename):\n",
        "    repeat_length = 7\n",
        "    max_count, max_repeats = all_repeats_with_max_count(filename, repeat_length)\n",
        "    print(f\"The maximum number of copies (Max) of any 12-base repeat is: {max_count}\")\n",
        "    print(f\"Number of different 12-base sequences that occur {max_count} times: {len(max_repeats)}\")\n",
        "    print(f\"These sequences are: {max_repeats}\")\n",
        "\n",
        "if __name__ == \"__main__\":\n",
        "    filename = \"dna2.fasta\"\n",
        "    main(filename)\n",
        "print(main('dna2.fasta'))"
      ],
      "metadata": {
        "colab": {
          "base_uri": "https://localhost:8080/"
        },
        "id": "ghWfYgKMbPvS",
        "outputId": "4116371f-4dd5-4c98-9334-889381e529d2"
      },
      "execution_count": 37,
      "outputs": [
        {
          "output_type": "stream",
          "name": "stdout",
          "text": [
            "('CGCGCCG', 63)\n",
            "The maximum number of copies (Max) of any 12-base repeat is: 63\n",
            "Number of different 12-base sequences that occur 63 times: 1\n",
            "These sequences are: ['CGCGCCG']\n",
            "The maximum number of copies (Max) of any 12-base repeat is: 63\n",
            "Number of different 12-base sequences that occur 63 times: 1\n",
            "These sequences are: ['CGCGCCG']\n",
            "None\n"
          ]
        }
      ]
    }
  ]
}